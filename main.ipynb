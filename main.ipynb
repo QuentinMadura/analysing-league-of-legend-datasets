{
 "cells": [
  {
   "cell_type": "code",
   "execution_count": null,
   "metadata": {},
   "outputs": [],
   "source": [
    "import pandas as pd\n",
    "import numpy as np"
   ]
  },
  {
   "cell_type": "markdown",
   "metadata": {},
   "source": [
    "Basic cleaning of the data"
   ]
  },
  {
   "cell_type": "code",
   "execution_count": 254,
   "metadata": {},
   "outputs": [],
   "source": [
    "def load_and_clean_data():\n",
    "    df = pd.read_csv(\"data.csv\",  sep=';')\n",
    "    df.team = df.team.str.lower()\n",
    "    df.league = df.league.str.lower()\n",
    "    return df.replace({ \"1\": 1.0, \"0\": 0.0, 1: 1.0, 0: 0.0, 'Blue': -1, 'Red': 1.0 })\n"
   ]
  },
  {
   "cell_type": "markdown",
   "metadata": {},
   "source": [
    "Returns all unique games played by a team.\n",
    "\n",
    "Arguments:\n",
    "    df: the dataframe containing the data.\n",
    "    team: the team you are interested in. Eg: \"Echo Fox\""
   ]
  },
  {
   "cell_type": "code",
   "execution_count": 255,
   "metadata": {},
   "outputs": [],
   "source": [
    "def team_games(df, team):\n",
    "    print(team)\n",
    "    return df[( df['team'] == team ) & ( df['player'] == 'Team')].drop_duplicates(subset=['gameid'])\n"
   ]
  },
  {
   "cell_type": "markdown",
   "metadata": {},
   "source": [
    "Returns opponents for a given team.\n",
    "\n",
    "Arguments:\n",
    "    df: the dataframe containing the data.\n",
    "    team: the team you are interested in games: a array of gameids the team played in.\n"
   ]
  },
  {
   "cell_type": "code",
   "execution_count": 256,
   "metadata": {},
   "outputs": [],
   "source": [
    "def opponent_games(df, team, gameids):\n",
    "    games = df[df.gameid.isin(gameids)]\n",
    "    opponent_games = games[games.team != team].drop_duplicates(subset=['gameid'])[['gameid', 'team']]\n",
    "    opponent_games.columns = ['gameid', 'opponent']\n",
    "\n",
    "    return opponent_games"
   ]
  },
  {
   "cell_type": "code",
   "execution_count": 257,
   "metadata": {},
   "outputs": [
    {
     "name": "stdout",
     "output_type": "stream",
     "text": [
      "cloud9\n",
      "     week  game    team             opponent  side  result  teamkills  \\\n",
      "0      PI   1.0  cloud9       kabum e-sports  -1.0     1.0       13.0   \n",
      "1      PI   1.0  cloud9   detonation focusme   1.0     1.0       18.0   \n",
      "2      PI   3.0  cloud9       kabum e-sports   1.0     1.0       18.0   \n",
      "3      PI   3.0  cloud9   detonation focusme  -1.0     1.0       14.0   \n",
      "4   PI-KO   1.0  cloud9       gambit esports  -1.0     1.0       13.0   \n",
      "5   PI-KO   2.0  cloud9       gambit esports   1.0     0.0        6.0   \n",
      "6   PI-KO   3.0  cloud9       gambit esports  -1.0     1.0       18.0   \n",
      "7   PI-KO   4.0  cloud9       gambit esports   1.0     0.0        8.0   \n",
      "8   PI-KO   5.0  cloud9       gambit esports  -1.0     1.0       17.0   \n",
      "9       G   1.0  cloud9  royal never give up   1.0     0.0        3.0   \n",
      "10      G   2.0  cloud9             vitality   1.0     1.0       17.0   \n",
      "11      G   3.0  cloud9                gen.g  -1.0     0.0        2.0   \n",
      "12      G   5.0  cloud9                gen.g   1.0     1.0       13.0   \n",
      "13      G   5.0  cloud9  royal never give up  -1.0     1.0       13.0   \n",
      "14      G   5.0  cloud9             vitality  -1.0     1.0       17.0   \n",
      "15      G   5.0  cloud9  royal never give up   1.0     0.0       19.0   \n",
      "16     QF   1.0  cloud9       afreeca freecs  -1.0     1.0       16.0   \n",
      "17     QF   2.0  cloud9       afreeca freecs  -1.0     1.0       14.0   \n",
      "18     QF   3.0  cloud9       afreeca freecs  -1.0     1.0       18.0   \n",
      "\n",
      "    teamdeaths  \n",
      "0          6.0  \n",
      "1         14.0  \n",
      "2          8.0  \n",
      "3          9.0  \n",
      "4          5.0  \n",
      "5         18.0  \n",
      "6          7.0  \n",
      "7         17.0  \n",
      "8          8.0  \n",
      "9         11.0  \n",
      "10        16.0  \n",
      "11        11.0  \n",
      "12         6.0  \n",
      "13         4.0  \n",
      "14         8.0  \n",
      "15        19.0  \n",
      "16         5.0  \n",
      "17        11.0  \n",
      "18        15.0  \n"
     ]
    }
   ],
   "source": [
    "df = load_and_clean_data()\n",
    "team = team_games(df, 'cloud9')\n",
    "opponents = opponent_games(df, 'cloud9', team.gameid)\n",
    "result = team.merge(opponents, on=\"gameid\")[['week', 'game', 'team', 'opponent', 'side', 'result', 'teamkills', 'teamdeaths']]\n",
    "\n",
    "# Gives as a nice summary of the results up to date\n",
    "print(result)\n"
   ]
  },
  {
   "cell_type": "markdown",
   "metadata": {},
   "source": []
  },
  {
   "cell_type": "markdown",
   "metadata": {},
   "source": [
    "Stats about First Blood/Turret/Dragon"
   ]
  },
  {
   "cell_type": "code",
   "execution_count": 258,
   "metadata": {},
   "outputs": [
    {
     "name": "stdout",
     "output_type": "stream",
     "text": [
      "cloud9\n",
      "fb:\t 16.0 / 19 0.8421052631578947\n",
      "ft:\t 9.0 / 19 0.47368421052631576\n",
      "fd:\t 11.0 / 19 0.5789473684210527\n",
      "fbaron:\t 12.0 / 19 0.631578947368421\n"
     ]
    }
   ],
   "source": [
    "fields = ['fb', 'ft', 'fd', 'fbaron']\n",
    "games = team_games(df, 'cloud9')\n",
    "\n",
    "for f in fields:\n",
    "    taken = games[f].sum()\n",
    "    total = games[f].shape[0]\n",
    "    print(f + ':\\t', taken, \"/\" , total, taken/total)"
   ]
  },
  {
   "cell_type": "markdown",
   "metadata": {},
   "source": [
    "Using corr to find correlation\n",
    "Let’s see if there is a relationship between first dragon, turret, etc, and actually winning the game."
   ]
  },
  {
   "cell_type": "code",
   "execution_count": 259,
   "metadata": {},
   "outputs": [
    {
     "name": "stdout",
     "output_type": "stream",
     "text": [
      "cloud9\n",
      "        side    fb    fd    ft  fbaron  result\n",
      "side    1.00 -0.22  0.08 -0.38   -0.40   -0.46\n",
      "fb     -0.22  1.00  0.22 -0.17    0.13    0.40\n",
      "fd      0.08  0.22  1.00  0.17   -0.08    0.46\n",
      "ft     -0.38 -0.17  0.17  1.00    0.24    0.33\n",
      "fbaron -0.40  0.13 -0.08  0.24    1.00    0.47\n",
      "result -0.46  0.40  0.46  0.33    0.47    1.00\n"
     ]
    }
   ],
   "source": [
    "fields_to_correlate = 'side fb fd ft fbaron result'.split()\n",
    "\n",
    "def do_correlation(team):\n",
    "    games = team_games(df, team) # [fields_to_correlate]\n",
    "    games.replace(' ', np.nan, inplace=True) # replace empty values\n",
    "    corr = games[fields_to_correlate].corr()\n",
    "    print(corr.round(2))\n",
    "\n",
    "do_correlation('cloud9')\n"
   ]
  },
  {
   "cell_type": "code",
   "execution_count": null,
   "metadata": {},
   "outputs": [],
   "source": []
  }
 ],
 "metadata": {
  "kernelspec": {
   "display_name": "Python 3",
   "language": "python",
   "name": "python3"
  },
  "language_info": {
   "codemirror_mode": {
    "name": "ipython",
    "version": 3
   },
   "file_extension": ".py",
   "mimetype": "text/x-python",
   "name": "python",
   "nbconvert_exporter": "python",
   "pygments_lexer": "ipython3",
   "version": "3.6.6"
  }
 },
 "nbformat": 4,
 "nbformat_minor": 2
}
