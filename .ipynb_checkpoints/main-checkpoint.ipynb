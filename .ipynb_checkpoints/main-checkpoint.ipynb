{
 "cells": [
  {
   "cell_type": "code",
   "execution_count": 215,
   "metadata": {},
   "outputs": [],
   "source": [
    "import pandas as pd\n",
    "\n",
    "def load_and_clean_data():\n",
    "    df = pd.read_csv(\"data.csv\",  sep=';')\n",
    "    df.team = df.team.str.lower()\n",
    "    df.league = df.league.str.lower()\n",
    "    return df.replace({ \"1\": 1.0, \"0\": 0.0, 1: 1.0, 0: 0.0, 'Blue': -1, 'Red': 1.0 })\n"
   ]
  },
  {
   "cell_type": "markdown",
   "metadata": {},
   "source": [
    "Returns all unique games played by a team.\n",
    "Arguments:\n",
    "df: the dataframe containing the data.\n",
    "team: the team you are interested in. Eg: \"Echo Fox\""
   ]
  },
  {
   "cell_type": "code",
   "execution_count": 232,
   "metadata": {},
   "outputs": [],
   "source": [
    "def team_games(df, team):\n",
    "    return df[( df['team'] == team ) & ( df['player'] == 'Team')].drop_duplicates(subset=['gameid'])\n"
   ]
  },
  {
   "cell_type": "markdown",
   "metadata": {},
   "source": [
    "Returns opponents for a given team.\n",
    "Arguments:\n",
    "df: the dataframe containing the data.\n",
    "team: the team you are interested in games: a array of gameids the team played in.\n"
   ]
  },
  {
   "cell_type": "code",
   "execution_count": 233,
   "metadata": {},
   "outputs": [],
   "source": [
    "def opponent_games(df, team, gameids):\n",
    "    games = df[df.gameid.isin(gameids)]\n",
    "    opponent_games = games[games.team != team].drop_duplicates(subset=['gameid'])[['gameid', 'team']]\n",
    "    opponent_games.columns = ['gameid', 'opponent']\n",
    "\n",
    "    return opponent_games"
   ]
  },
  {
   "cell_type": "code",
   "execution_count": 234,
   "metadata": {},
   "outputs": [
    {
     "name": "stdout",
     "output_type": "stream",
     "text": [
      "10      Team\n",
      "59      Team\n",
      "191     Team\n",
      "214     Team\n",
      "322     Team\n",
      "335     Team\n",
      "346     Team\n",
      "359     Team\n",
      "370     Team\n",
      "563     Team\n",
      "635     Team\n",
      "718     Team\n",
      "815     Team\n",
      "838     Team\n",
      "850     Team\n",
      "875     Team\n",
      "1246    Team\n",
      "1258    Team\n",
      "1270    Team\n",
      "Name: player, dtype: object 10      cloud9\n",
      "59      cloud9\n",
      "191     cloud9\n",
      "214     cloud9\n",
      "322     cloud9\n",
      "335     cloud9\n",
      "346     cloud9\n",
      "359     cloud9\n",
      "370     cloud9\n",
      "563     cloud9\n",
      "635     cloud9\n",
      "718     cloud9\n",
      "815     cloud9\n",
      "838     cloud9\n",
      "850     cloud9\n",
      "875     cloud9\n",
      "1246    cloud9\n",
      "1258    cloud9\n",
      "1270    cloud9\n",
      "Name: team, dtype: object\n"
     ]
    }
   ],
   "source": [
    "df = load_and_clean_data()\n",
    "team = team_games(df, 'cloud9')\n"
   ]
  },
  {
   "cell_type": "markdown",
   "metadata": {},
   "source": []
  },
  {
   "cell_type": "code",
   "execution_count": null,
   "metadata": {},
   "outputs": [],
   "source": [
    "\n"
   ]
  },
  {
   "cell_type": "code",
   "execution_count": null,
   "metadata": {},
   "outputs": [],
   "source": []
  },
  {
   "cell_type": "code",
   "execution_count": null,
   "metadata": {},
   "outputs": [],
   "source": []
  }
 ],
 "metadata": {
  "kernelspec": {
   "display_name": "Python 3",
   "language": "python",
   "name": "python3"
  },
  "language_info": {
   "codemirror_mode": {
    "name": "ipython",
    "version": 3
   },
   "file_extension": ".py",
   "mimetype": "text/x-python",
   "name": "python",
   "nbconvert_exporter": "python",
   "pygments_lexer": "ipython3",
   "version": "3.6.6"
  }
 },
 "nbformat": 4,
 "nbformat_minor": 2
}
